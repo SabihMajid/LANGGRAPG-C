{
  "nbformat": 4,
  "nbformat_minor": 0,
  "metadata": {
    "colab": {
      "provenance": [],
      "authorship_tag": "ABX9TyN27rnQ7kcu0Si7yV7kdFp4",
      "include_colab_link": true
    },
    "kernelspec": {
      "name": "python3",
      "display_name": "Python 3"
    },
    "language_info": {
      "name": "python"
    }
  },
  "cells": [
    {
      "cell_type": "markdown",
      "metadata": {
        "id": "view-in-github",
        "colab_type": "text"
      },
      "source": [
        "<a href=\"https://colab.research.google.com/github/SabihMajid/LANGGRAPG-C/blob/main/module00.ipynb\" target=\"_parent\"><img src=\"https://colab.research.google.com/assets/colab-badge.svg\" alt=\"Open In Colab\"/></a>"
      ]
    },
    {
      "cell_type": "code",
      "execution_count": null,
      "metadata": {
        "collapsed": true,
        "id": "ohmAZtHQcvpP"
      },
      "outputs": [],
      "source": [
        "!pip install -q langchain_google_genai langchain_core langchain_community tavily-python"
      ]
    },
    {
      "cell_type": "code",
      "source": [
        "from langchain_google_genai import ChatGoogleGenerativeAI\n",
        "\n",
        "from google.colab import userdata\n",
        "GEMINI_API_KEY = userdata.get('GEMINI_API_KEY')\n",
        "llm = ChatGoogleGenerativeAI(\n",
        "    model = \"gemini-1.5-flash\",\n",
        "    api_key = GEMINI_API_KEY,\n",
        "    temperature=0,\n",
        ")"
      ],
      "metadata": {
        "id": "D5-U9VSmdEGC"
      },
      "execution_count": null,
      "outputs": []
    },
    {
      "cell_type": "code",
      "source": [
        "result = llm.invoke(\"hello\")\n",
        "result"
      ],
      "metadata": {
        "colab": {
          "base_uri": "https://localhost:8080/"
        },
        "id": "ZWhJcttpdzQs",
        "outputId": "86507007-08b2-463e-c88a-d235a80816c8"
      },
      "execution_count": null,
      "outputs": [
        {
          "output_type": "execute_result",
          "data": {
            "text/plain": [
              "AIMessage(content='Hello there! How can I help you today?\\n', additional_kwargs={}, response_metadata={'prompt_feedback': {'block_reason': 0, 'safety_ratings': []}, 'finish_reason': 'STOP', 'safety_ratings': []}, id='run-9e3745fa-79e7-4148-b9d2-64cade0a3cde-0', usage_metadata={'input_tokens': 2, 'output_tokens': 11, 'total_tokens': 13, 'input_token_details': {'cache_read': 0}})"
            ]
          },
          "metadata": {},
          "execution_count": 17
        }
      ]
    },
    {
      "cell_type": "code",
      "source": [
        "from os import name\n",
        "from langchain_core.messages import  HumanMessage, AIMessage\n",
        "\n",
        "Message = [\n",
        "    HumanMessage(content=\"hello\" , name=\"User\"),\n",
        "    AIMessage(content='Hello there! How can I help you today?', name=\"AI assistant\"),\n",
        "    HumanMessage(content=\"what is langgraph?\" , name=\"User\"),\n",
        "\n",
        "]\n",
        "\n",
        "llm.invoke(Message)\n"
      ],
      "metadata": {
        "colab": {
          "base_uri": "https://localhost:8080/"
        },
        "id": "uj7xKjlDhOrw",
        "outputId": "63c6ac00-debf-4a3c-9313-d345095b6e3d"
      },
      "execution_count": null,
      "outputs": [
        {
          "output_type": "execute_result",
          "data": {
            "text/plain": [
              "AIMessage(content='LangGraph is a knowledge graph specifically designed for natural language processing (NLP).  Instead of representing general knowledge like many other knowledge graphs (e.g., DBpedia, Wikidata), LangGraph focuses on linguistic information.  This includes things like:\\n\\n* **Word senses:**  Different meanings a word can have (polysemy).  It helps disambiguate words in context.\\n* **Word relationships:**  Synonyms, antonyms, hypernyms (broader terms), hyponyms (narrower terms), etc.  This captures semantic relationships between words.\\n* **Syntactic information:**  Information about the grammatical structure of sentences.\\n* **Semantic roles:**  The roles words play in a sentence (e.g., agent, patient, instrument).\\n* **Contextual embeddings:**  Vector representations of words and phrases that capture their meaning in specific contexts.\\n\\nEssentially, LangGraph aims to provide a structured representation of language that can be used to improve various NLP tasks, such as:\\n\\n* **Word sense disambiguation:** Determining the correct meaning of a word in a given sentence.\\n* **Text classification:** Categorizing text based on its content.\\n* **Question answering:** Answering questions based on a given text.\\n* **Machine translation:** Translating text from one language to another.\\n* **Information retrieval:** Finding relevant information in a large corpus of text.\\n\\n\\nIt\\'s important to note that \"LangGraph\" isn\\'t a single, universally recognized project like Wikidata.  The term might refer to a specific research project, a proprietary system developed by a company, or a general concept.  If you encountered this term in a specific context, providing more information would help clarify its exact meaning.\\n', additional_kwargs={}, response_metadata={'prompt_feedback': {'block_reason': 0, 'safety_ratings': []}, 'finish_reason': 'STOP', 'safety_ratings': []}, id='run-b1d5e0cb-45f1-4337-827c-769672c9164f-0', usage_metadata={'input_tokens': 19, 'output_tokens': 353, 'total_tokens': 372, 'input_token_details': {'cache_read': 0}})"
            ]
          },
          "metadata": {},
          "execution_count": 21
        }
      ]
    },
    {
      "cell_type": "code",
      "source": [
        "import os\n",
        "from google.colab import userdata\n",
        "TAVILY_API_KEY = userdata.get('TAVILY_API_KEY')\n",
        "os.environ[\"TAVILY_API_KEY\"] = userdata.get(\"TAVILY_API_KEY\")\n",
        "\n",
        "from langchain_community.tools.tavily_search import  TavilySearchResults\n",
        "tavily_search = TavilySearchResults(max_results=3)\n",
        "search_docs = tavily_search.invoke(\"hy\")"
      ],
      "metadata": {
        "id": "-SAFzXAip9wo"
      },
      "execution_count": null,
      "outputs": []
    },
    {
      "cell_type": "code",
      "source": [
        "search_docs"
      ],
      "metadata": {
        "colab": {
          "base_uri": "https://localhost:8080/"
        },
        "id": "6AUlway0pcaH",
        "outputId": "3f3ea862-ea95-4f5f-919e-cb9ace18b3f2"
      },
      "execution_count": null,
      "outputs": [
        {
          "output_type": "execute_result",
          "data": {
            "text/plain": [
              "[{'url': 'https://hylang.org/',\n",
              "  'content': 'Hy is a Lisp dialect that\\'s embedded in Python. Hy (or \"Hylang\" for long) is a multi-paradigm general-purpose programming language in the Lisp family.'},\n",
              " {'url': 'https://en.wikipedia.org/wiki/Hy',\n",
              "  'content': 'Science and technology · Hy (programming language), a Lisp dialect for Python · HY (satellite), a series of Chinese marine remote sensing satellites · H-Y'},\n",
              " {'url': 'https://finance.yahoo.com/quote/HY/',\n",
              "  'content': 'Find the latest Hyster-Yale, Inc. (HY) stock quote, history, news and other vital information to help you with your stock trading and investing.'}]"
            ]
          },
          "metadata": {},
          "execution_count": 42
        }
      ]
    }
  ]
}